{
 "cells": [
  {
   "cell_type": "code",
   "execution_count": 4,
   "id": "d74aa0b5",
   "metadata": {},
   "outputs": [
    {
     "name": "stdout",
     "output_type": "stream",
     "text": [
      "Inserire un link di una città su tripadvisor per ottenere i suoi ristoranti.\n",
      "Es: https://www.tripadvisor.it/Restaurants-g187807-Rimini_Province_of_Rimini_Emilia_Romagna-Vacations.html\n",
      "Analisi primi 30 ristoranti\n"
     ]
    },
    {
     "ename": "IndexError",
     "evalue": "list index out of range",
     "output_type": "error",
     "traceback": [
      "\u001b[1;31m---------------------------------------------------------------------------\u001b[0m",
      "\u001b[1;31mIndexError\u001b[0m                                Traceback (most recent call last)",
      "Input \u001b[1;32mIn [4]\u001b[0m, in \u001b[0;36m<cell line: 33>\u001b[1;34m()\u001b[0m\n\u001b[0;32m     50\u001b[0m \u001b[38;5;28mprint\u001b[39m(\u001b[38;5;124m\"\u001b[39m\u001b[38;5;124mAnalisi primi\u001b[39m\u001b[38;5;124m\"\u001b[39m,offsett, \u001b[38;5;124m\"\u001b[39m\u001b[38;5;124mristoranti\u001b[39m\u001b[38;5;124m\"\u001b[39m)\n\u001b[0;32m     51\u001b[0m \u001b[38;5;28;01mfor\u001b[39;00m it \u001b[38;5;129;01min\u001b[39;00m items:\n\u001b[0;32m     52\u001b[0m     \u001b[38;5;66;03m#stelle:\u001b[39;00m\n\u001b[1;32m---> 53\u001b[0m     stelle\u001b[38;5;241m.\u001b[39mappend(\u001b[38;5;28;43mstr\u001b[39;49m\u001b[43m(\u001b[49m\u001b[43mit\u001b[49m\u001b[38;5;241;43m.\u001b[39;49m\u001b[43mfind\u001b[49m\u001b[43m(\u001b[49m\u001b[38;5;124;43m\"\u001b[39;49m\u001b[38;5;124;43msvg\u001b[39;49m\u001b[38;5;124;43m\"\u001b[39;49m\u001b[43m,\u001b[49m\u001b[43m \u001b[49m\u001b[43m{\u001b[49m\u001b[38;5;124;43m\"\u001b[39;49m\u001b[38;5;124;43mclass\u001b[39;49m\u001b[38;5;124;43m\"\u001b[39;49m\u001b[43m,\u001b[49m\u001b[38;5;124;43m\"\u001b[39;49m\u001b[38;5;124;43mUctUV d H0\u001b[39;49m\u001b[38;5;124;43m\"\u001b[39;49m\u001b[43m}\u001b[49m\u001b[43m)\u001b[49m\u001b[43m[\u001b[49m\u001b[38;5;124;43m'\u001b[39;49m\u001b[38;5;124;43maria-label\u001b[39;49m\u001b[38;5;124;43m'\u001b[39;49m\u001b[43m]\u001b[49m\u001b[43m)\u001b[49m\u001b[38;5;241;43m.\u001b[39;49m\u001b[43msplit\u001b[49m\u001b[43m(\u001b[49m\u001b[38;5;124;43m\"\u001b[39;49m\u001b[38;5;124;43mPunteggio \u001b[39;49m\u001b[38;5;124;43m\"\u001b[39;49m\u001b[43m)\u001b[49m\u001b[43m[\u001b[49m\u001b[38;5;241;43m1\u001b[39;49m\u001b[43m]\u001b[49m\u001b[38;5;241m.\u001b[39msplit(\u001b[38;5;124m\"\u001b[39m\u001b[38;5;124m su\u001b[39m\u001b[38;5;124m\"\u001b[39m)[\u001b[38;5;241m0\u001b[39m])\n\u001b[0;32m     54\u001b[0m     \u001b[38;5;66;03m#nomi\u001b[39;00m\n\u001b[0;32m     55\u001b[0m     nomi\u001b[38;5;241m.\u001b[39mappend(\u001b[38;5;28mstr\u001b[39m(it\u001b[38;5;241m.\u001b[39mfind(\u001b[38;5;124m\"\u001b[39m\u001b[38;5;124ma\u001b[39m\u001b[38;5;124m\"\u001b[39m,{\u001b[38;5;124m\"\u001b[39m\u001b[38;5;124mclass\u001b[39m\u001b[38;5;124m\"\u001b[39m,\u001b[38;5;124m\"\u001b[39m\u001b[38;5;124mLwqic Cj b\u001b[39m\u001b[38;5;124m\"\u001b[39m})\u001b[38;5;241m.\u001b[39mtext))\n",
      "\u001b[1;31mIndexError\u001b[0m: list index out of range"
     ]
    }
   ],
   "source": [
    "\n",
    "from bs4 import BeautifulSoup\n",
    "import os\n",
    "import urllib.request\n",
    "from requests_html import HTMLSession\n",
    "\n",
    "import sys\n",
    "import pandas as pd\n",
    "from string import digits\n",
    "session = HTMLSession()\n",
    "\n",
    "session.headers.update({\n",
    "            \"user-agent\": \"Mozilla/5.0 (Windows NT 10.0; Win64; x64) AppleWebKit/537.36 (KHTML, like Gecko) Chrome/89.0.4389.90 Safari/537.36\"\n",
    "})\n",
    "i=1\n",
    "offsett=0\n",
    "fine=0\n",
    "giro=True\n",
    "\n",
    "nomi=[]\n",
    "stelle=[]\n",
    "links=[]\n",
    "recensioni=[]\n",
    "\n",
    "\n",
    "\n",
    "\n",
    "print(\"Inserire un link di una città su tripadvisor per ottenere i suoi ristoranti.\")\n",
    "print(\"Es: https://www.tripadvisor.it/Restaurants-g187807-Rimini_Province_of_Rimini_Emilia_Romagna-Vacations.html\")\n",
    "#input_link=input()\n",
    "input_link=\"https://www.tripadvisor.com/Restaurants-g194878-Riccione_Province_of_Rimini_Emilia_Romagna.html\"\n",
    "geocode=input_link.split(\"-g\")[1].split(\"-\")[0]\n",
    "\n",
    "while(giro):\n",
    "    \n",
    "    offsett=i*30\n",
    "    i+=1\n",
    "    items=[]\n",
    "    \n",
    "    link=\"https://www.tripadvisor.com/RestaurantSearch?Action=PAGE&ajax=1&availSearchEnabled=true&sortOrder=popularity&geo=\"+geocode+\"&itags=10591&eaterydate=2022_04_11&date=2022-04-12&time=20:00:00&people=2&o=a\"+str(offsett)\n",
    "    r=session.get(link)\n",
    "    \n",
    "    soup= BeautifulSoup(r.content, \"html.parser\")\n",
    "    try:\n",
    "        if soup.find(\"span\",{\"class\",\"nav next disabled\"})!=None:\n",
    "            print(\"esco\")\n",
    "            break\n",
    "    except:\n",
    "        continue\n",
    "    items=soup.find_all(\"div\",{\"class\", \"YHnoF Gi o\"})\n",
    "    print(\"Analisi primi\",offsett, \"ristoranti\")\n",
    "    for it in items:\n",
    "        #stelle:\n",
    "        stelle.append(str(it.find(\"svg\", {\"class\",\"UctUV d H0\"})['aria-label']).split(\"Punteggio \")[1].split(\" su\")[0])\n",
    "        #nomi\n",
    "        nomi.append(str(it.find(\"a\",{\"class\",\"Lwqic Cj b\"}).text))\n",
    "        #links\n",
    "        links.append(\"https://www.tripadvisor.it\"+str(it.find(\"a\",{\"class\",\"Lwqic Cj b\"})['href']))\n",
    "        recensioni.append(it.find(\"span\", {'class':'IiChw'}).text.replace(\"recensioni\",\"\")) \n",
    "print(\"Totale ristoranti: \",str(len(links)))\n",
    "\n",
    "diz=[]\n",
    "for n in zip(nomi,links,stelle, recensioni):\n",
    "    diz.append(n)\n",
    "\n",
    "\n",
    "d=pd.DataFrame.from_records(diz, columns=['NOME', 'LINK', 'STELLE', 'RECENSIONI'])\n",
    "\n",
    "\n",
    "d.to_excel('risultatiENG.xlsx')\n",
    "\n",
    "print(\"Salvati i risultati in risultatiENG.xlxs\")"
   ]
  },
  {
   "cell_type": "code",
   "execution_count": 2,
   "id": "ac789e88",
   "metadata": {},
   "outputs": [
    {
     "data": {
      "text/plain": [
       "'https://www.tripadvisor.com/RestaurantSearch?Action=PAGE&ajax=1&availSearchEnabled=true&sortOrder=popularity&geo=194878&itags=10591&eaterydate=2022_04_11&date=2022-04-12&time=20:00:00&people=2&o=a30'"
      ]
     },
     "execution_count": 2,
     "metadata": {},
     "output_type": "execute_result"
    }
   ],
   "source": [
    "link"
   ]
  }
 ],
 "metadata": {
  "kernelspec": {
   "display_name": "Python 3 (ipykernel)",
   "language": "python",
   "name": "python3"
  },
  "language_info": {
   "codemirror_mode": {
    "name": "ipython",
    "version": 3
   },
   "file_extension": ".py",
   "mimetype": "text/x-python",
   "name": "python",
   "nbconvert_exporter": "python",
   "pygments_lexer": "ipython3",
   "version": "3.9.10"
  }
 },
 "nbformat": 4,
 "nbformat_minor": 5
}
