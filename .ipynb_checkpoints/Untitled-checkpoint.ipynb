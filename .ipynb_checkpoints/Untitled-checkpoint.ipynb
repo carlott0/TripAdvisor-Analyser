{
 "cells": [
  {
   "cell_type": "code",
   "execution_count": 68,
   "id": "936a4eb1",
   "metadata": {},
   "outputs": [],
   "source": [
    "\n",
    "import os\n",
    "import numpy as np\n",
    "import sys\n",
    "import pandas as pd\n",
    "import xlsxwriter\n",
    "\n",
    "\n",
    "d=pd.read_excel('recensioniIT.xlsx')  \n",
    "\n",
    "ristoranti=d.iloc[:,0]\n",
    "recensioni=d.iloc[:, 1:-1]\n",
    "i=1\n",
    "res={}\n",
    "for ristorante in ristoranti:\n",
    "    res[ristorante]=0\n",
    "    for cella in list(recensioni.iloc[i]):\n",
    "        if \"piada\" in str(cella) or \"piadina\" in str(cella):\n",
    "            res[ristorante]=1\n",
    "            break\n",
    "        i+=1\n",
    "    i=0\n",
    "workbook = xlsxwriter.Workbook('ristoranticonpiadaITA.xlsx')\n",
    "worksheet = workbook.add_worksheet()\n",
    "\n",
    "row = 0\n",
    "for key in res.keys():\n",
    "    worksheet.write(row, 0, key)\n",
    "    worksheet.write_row(row, 1, res[key])\n",
    "    row += 1\n",
    "\n",
    "workbook.close()\n"
   ]
  }
 ],
 "metadata": {
  "kernelspec": {
   "display_name": "Python 3 (ipykernel)",
   "language": "python",
   "name": "python3"
  },
  "language_info": {
   "codemirror_mode": {
    "name": "ipython",
    "version": 3
   },
   "file_extension": ".py",
   "mimetype": "text/x-python",
   "name": "python",
   "nbconvert_exporter": "python",
   "pygments_lexer": "ipython3",
   "version": "3.9.10"
  }
 },
 "nbformat": 4,
 "nbformat_minor": 5
}
